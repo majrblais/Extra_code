{
 "cells": [
  {
   "cell_type": "code",
   "execution_count": 1,
   "id": "909fd14b-d639-4848-9c51-85de6a8ac441",
   "metadata": {},
   "outputs": [
    {
     "name": "stdout",
     "output_type": "stream",
     "text": [
      "Processing complete. Images saved in: ./results_a/images_colored\n"
     ]
    }
   ],
   "source": [
    "from PIL import Image\n",
    "import os\n",
    "\n",
    "# Path to the directory containing the original images\n",
    "input_folder = './results_a/images'\n",
    "\n",
    "# Path to the directory where the modified images will be saved\n",
    "output_folder = './results_a/images_colored'\n",
    "\n",
    "# Create the output directory if it doesn't exist\n",
    "os.makedirs(output_folder, exist_ok=True)\n",
    "\n",
    "# Loop through all the files in the input directory\n",
    "for filename in os.listdir(input_folder):\n",
    "    # Check if the file is an image\n",
    "    if filename.lower().endswith(('.png', '.jpg', '.jpeg', '.bmp')):\n",
    "        # Open the image\n",
    "        image_path = os.path.join(input_folder, filename)\n",
    "        img = Image.open(image_path)\n",
    "        \n",
    "        # Perform the operation (*255)\n",
    "        img = img.point(lambda p: p * 255)\n",
    "        \n",
    "        # Save the modified image to the output directory\n",
    "        output_path = os.path.join(output_folder, filename)\n",
    "        img.save(output_path)\n",
    "\n",
    "print(\"Processing complete. Images saved in:\", output_folder)\n"
   ]
  },
  {
   "cell_type": "code",
   "execution_count": null,
   "id": "887cc4b4-cc5a-47f0-b0fb-a7fca22976cd",
   "metadata": {},
   "outputs": [],
   "source": []
  }
 ],
 "metadata": {
  "kernelspec": {
   "display_name": "Python 3 (ipykernel)",
   "language": "python",
   "name": "python3"
  },
  "language_info": {
   "codemirror_mode": {
    "name": "ipython",
    "version": 3
   },
   "file_extension": ".py",
   "mimetype": "text/x-python",
   "name": "python",
   "nbconvert_exporter": "python",
   "pygments_lexer": "ipython3",
   "version": "3.12.0"
  }
 },
 "nbformat": 4,
 "nbformat_minor": 5
}
