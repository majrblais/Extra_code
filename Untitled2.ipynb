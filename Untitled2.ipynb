{
 "cells": [
  {
   "cell_type": "code",
   "execution_count": 6,
   "id": "e5a8ff01-fbfc-4c10-860e-208e0edfc844",
   "metadata": {},
   "outputs": [
    {
     "ename": "KeyboardInterrupt",
     "evalue": "",
     "output_type": "error",
     "traceback": [
      "\u001b[1;31m---------------------------------------------------------------------------\u001b[0m",
      "\u001b[1;31mKeyboardInterrupt\u001b[0m                         Traceback (most recent call last)",
      "Cell \u001b[1;32mIn[6], line 53\u001b[0m\n\u001b[0;32m     50\u001b[0m     cv2\u001b[38;5;241m.\u001b[39mdestroyAllWindows()\n\u001b[0;32m     52\u001b[0m \u001b[38;5;28;01mif\u001b[39;00m \u001b[38;5;18m__name__\u001b[39m \u001b[38;5;241m==\u001b[39m \u001b[38;5;124m\"\u001b[39m\u001b[38;5;124m__main__\u001b[39m\u001b[38;5;124m\"\u001b[39m:\n\u001b[1;32m---> 53\u001b[0m     \u001b[43mmain\u001b[49m\u001b[43m(\u001b[49m\u001b[43m)\u001b[49m\n",
      "Cell \u001b[1;32mIn[6], line 40\u001b[0m, in \u001b[0;36mmain\u001b[1;34m()\u001b[0m\n\u001b[0;32m     37\u001b[0m \u001b[38;5;66;03m# Display the concatenated image\u001b[39;00m\n\u001b[0;32m     38\u001b[0m cv2\u001b[38;5;241m.\u001b[39mimshow(\u001b[38;5;124m'\u001b[39m\u001b[38;5;124mImage Viewer\u001b[39m\u001b[38;5;124m'\u001b[39m, concatenated_image)\n\u001b[1;32m---> 40\u001b[0m k \u001b[38;5;241m=\u001b[39m \u001b[43mcv2\u001b[49m\u001b[38;5;241;43m.\u001b[39;49m\u001b[43mwaitKey\u001b[49m\u001b[43m(\u001b[49m\u001b[38;5;241;43m0\u001b[39;49m\u001b[43m)\u001b[49m \u001b[38;5;241m&\u001b[39m \u001b[38;5;241m0xFF\u001b[39m\n\u001b[0;32m     41\u001b[0m \u001b[38;5;28;01mif\u001b[39;00m k \u001b[38;5;241m==\u001b[39m \u001b[38;5;241m27\u001b[39m:  \u001b[38;5;66;03m# Esc key to stop\u001b[39;00m\n\u001b[0;32m     42\u001b[0m     \u001b[38;5;28;01mbreak\u001b[39;00m\n",
      "\u001b[1;31mKeyboardInterrupt\u001b[0m: "
     ]
    }
   ],
   "source": [
    "import cv2\n",
    "import os\n",
    "import numpy as np\n",
    "\n",
    "def load_images_from_folder(folder, target_size=(300, 300)):\n",
    "    images = []\n",
    "    for filename in sorted(os.listdir(folder)):\n",
    "        img = cv2.imread(os.path.join(folder, filename))\n",
    "        if img is not None:\n",
    "            # Resize image to target size\n",
    "            resized_img = cv2.resize(img, target_size, interpolation=cv2.INTER_AREA)\n",
    "            images.append(resized_img)\n",
    "    return images\n",
    "\n",
    "def main():\n",
    "    base_folder = \"results_a\"  # Update this path\n",
    "    subfolders = ['images', 'masks', 'predictions']  # Update these subfolder names\n",
    "\n",
    "    # Define the target size for all images\n",
    "    target_size = (512, 512)  # Width, Height in pixels\n",
    "\n",
    "    # Load images from each subfolder into separate lists\n",
    "    images_per_folder = [load_images_from_folder(os.path.join(base_folder, sub), target_size) for sub in subfolders]\n",
    "\n",
    "    # Find the maximum length to handle subfolders with different numbers of images\n",
    "    max_length = max(len(images) for images in images_per_folder)\n",
    "\n",
    "    current_index = 0\n",
    "\n",
    "    while True:\n",
    "        # Create a list of images for the current index if available in each subfolder\n",
    "        displayed_images = [images[current_index] if current_index < len(images) else np.zeros((target_size[1], target_size[0], 3), dtype=np.uint8) for images in images_per_folder]\n",
    "\n",
    "        # Concatenate images horizontally\n",
    "        concatenated_image = np.hstack(displayed_images)\n",
    "        \n",
    "        # Display the concatenated image\n",
    "        cv2.imshow('Image Viewer', concatenated_image)\n",
    "\n",
    "        k = cv2.waitKey(0) & 0xFF\n",
    "        if k == 27:  # Esc key to stop\n",
    "            break\n",
    "        elif k == ord('a') :  # Left arrow key (depends on the OS, so two codes provided)\n",
    "            if current_index > 0:\n",
    "                current_index -= 1\n",
    "        elif k == ord('d'):  # Right arrow key (depends on the OS, so two codes provided)\n",
    "            if current_index < max_length - 1:\n",
    "                current_index += 1\n",
    "\n",
    "    cv2.destroyAllWindows()\n",
    "\n",
    "if __name__ == \"__main__\":\n",
    "    main()\n"
   ]
  },
  {
   "cell_type": "code",
   "execution_count": null,
   "id": "0a341022-ca80-4085-8124-b77c61d3c434",
   "metadata": {},
   "outputs": [],
   "source": [
    "    base_folder = \"results_a\"  # Update this path\n",
    "    subfolders = ['images', 'masks', 'predictions']  # Update these subfolder names"
   ]
  }
 ],
 "metadata": {
  "kernelspec": {
   "display_name": "Python 3 (ipykernel)",
   "language": "python",
   "name": "python3"
  },
  "language_info": {
   "codemirror_mode": {
    "name": "ipython",
    "version": 3
   },
   "file_extension": ".py",
   "mimetype": "text/x-python",
   "name": "python",
   "nbconvert_exporter": "python",
   "pygments_lexer": "ipython3",
   "version": "3.12.0"
  }
 },
 "nbformat": 4,
 "nbformat_minor": 5
}
