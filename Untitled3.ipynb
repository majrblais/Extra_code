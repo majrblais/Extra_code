{
 "cells": [
  {
   "cell_type": "code",
   "execution_count": 1,
   "id": "f4259246-aa64-4a6f-b6d5-5c2b4fdeb038",
   "metadata": {},
   "outputs": [
    {
     "name": "stdin",
     "output_type": "stream",
     "text": [
      "Enter the path to the main folder:  v7\n",
      "Enter the name of the first subfolder (e.g., 'images'):  images\n",
      "Enter the name of the second subfolder (e.g., 'images2'):  images2\n",
      "Enter the path to the save folder (e.g., 'saved_images'):  saved\n"
     ]
    },
    {
     "name": "stdout",
     "output_type": "stream",
     "text": [
      "\n",
      "Instructions:\n",
      "1. The script will display images from both subfolders side by side.\n",
      "2. Use the 'a' key to navigate left and the 'd' key to navigate right.\n",
      "3. Press 'y' to save the displayed pair of images.\n",
      "4. Press 'n' to skip the displayed pair of images.\n",
      "5. Press 'Esc' to exit the viewer.\n",
      "\n"
     ]
    },
    {
     "name": "stderr",
     "output_type": "stream",
     "text": [
      "\n",
      "KeyboardInterrupt\n",
      "\n"
     ]
    }
   ],
   "source": [
    "import cv2\n",
    "import os\n",
    "import numpy as np\n",
    "\n",
    "def load_images_from_folder(folder, target_size=(512, 512)):\n",
    "    images = []\n",
    "    filenames = []\n",
    "    for filename in sorted(os.listdir(folder)):\n",
    "        img = cv2.imread(os.path.join(folder, filename))\n",
    "        if img is not None:\n",
    "            resized_img = cv2.resize(img, target_size, interpolation=cv2.INTER_AREA)\n",
    "            images.append(resized_img)\n",
    "            filenames.append(filename)\n",
    "    return images, filenames\n",
    "\n",
    "def main():\n",
    "    # Prompt the user for input\n",
    "    base_folder = input(\"Enter the path to the main folder: \").strip()\n",
    "    subfolder1 = input(\"Enter the name of the first subfolder (e.g., 'images'): \").strip()\n",
    "    subfolder2 = input(\"Enter the name of the second subfolder (e.g., 'images2'): \").strip()\n",
    "    save_folder = input(\"Enter the path to the save folder (e.g., 'saved_images'): \").strip()\n",
    "\n",
    "    # Print instructions\n",
    "    print(\"\\nInstructions:\")\n",
    "    print(\"1. The script will display images from both subfolders side by side, the masks (e.g images2) will be displayed in black/white but will be saved using the original format (0,1) so they will not be visible .\")\n",
    "    print(\"2. Use the 'a' key to navigate left and the 'd' key to navigate right.\")\n",
    "    print(\"3. Press 'y' to save the displayed pair of images.\")\n",
    "    print(\"4. Press 'n' to skip the displayed pair of images.\")\n",
    "    print(\"5. Press 'Esc' to exit the viewer.\\n\")\n",
    "\n",
    "    # Create save folder if it does not exist\n",
    "    os.makedirs(os.path.join(save_folder, subfolder1), exist_ok=True)\n",
    "    os.makedirs(os.path.join(save_folder, subfolder2), exist_ok=True)\n",
    "\n",
    "    # Define the target size for all images\n",
    "    target_size = (512, 512)  # Width, Height in pixels\n",
    "\n",
    "    # Load images from each subfolder into separate lists\n",
    "    all_images = []\n",
    "    all_titles = []\n",
    "    for sub in [subfolder1, subfolder2]:\n",
    "        images, filenames = load_images_from_folder(os.path.join(base_folder, sub), target_size)\n",
    "        if sub == subfolder2:\n",
    "            images = [img * 255 for img in images]  # Multiply images in the second subfolder by 255\n",
    "        all_images.append(images)\n",
    "        all_titles.append(filenames)\n",
    "\n",
    "    # Find the maximum length to handle subfolders with different numbers of images\n",
    "    max_length = max(len(images) for images in all_images)\n",
    "\n",
    "    current_index = 0\n",
    "\n",
    "    while True:\n",
    "        displayed_images = []\n",
    "        for idx, images in enumerate(all_images):\n",
    "            if current_index < len(images):\n",
    "                img = images[current_index]\n",
    "                cv2.putText(img, all_titles[idx][current_index], (10, 20), cv2.FONT_HERSHEY_SIMPLEX, 0.5, (255, 255, 255), 1, cv2.LINE_AA)\n",
    "                displayed_images.append(img)\n",
    "            else:\n",
    "                displayed_images.append(np.zeros((target_size[1], target_size[0], 3), dtype=np.uint8))\n",
    "\n",
    "        vertical_separator = np.zeros((target_size[1], 10, 3), dtype=np.uint8)\n",
    "        for i in range(1, len(displayed_images)):\n",
    "            displayed_images.insert(2 * i - 1, vertical_separator)\n",
    "\n",
    "        concatenated_image = np.hstack(displayed_images)\n",
    "\n",
    "        cv2.imshow('Image Viewer', concatenated_image)\n",
    "\n",
    "        k = cv2.waitKey(0) & 0xFF\n",
    "        if k == 27:  # Esc key to stop\n",
    "            break\n",
    "        elif k == ord('a'):  # 'a' key for left navigation\n",
    "            if current_index > 0:\n",
    "                current_index -= 1\n",
    "        elif k == ord('d'):  # 'd' key for right navigation\n",
    "            if current_index < max_length - 1:\n",
    "                current_index += 1\n",
    "        elif k == ord('y'):  # 'y' key to save images\n",
    "            for idx, sub in enumerate([subfolder1, subfolder2]):\n",
    "                source_file_path = os.path.join(base_folder, sub, all_titles[idx][current_index])\n",
    "                target_file_path = os.path.join(save_folder, sub, all_titles[idx][current_index])\n",
    "                if not os.path.exists(target_file_path):\n",
    "                    os.rename(source_file_path, target_file_path)\n",
    "            print(f\"Saved: {all_titles[0][current_index]} and {all_titles[1][current_index]}\")\n",
    "        elif k == ord('n'):  # 'n' key to skip\n",
    "            print(f\"Skipped: {all_titles[0][current_index]} and {all_titles[1][current_index]}\")\n",
    "\n",
    "    cv2.destroyAllWindows()\n",
    "\n",
    "if __name__ == \"__main__\":\n",
    "    main()\n"
   ]
  },
  {
   "cell_type": "code",
   "execution_count": null,
   "id": "214f0a30-ad90-4013-b288-4232bd8e7c7c",
   "metadata": {},
   "outputs": [],
   "source": []
  }
 ],
 "metadata": {
  "kernelspec": {
   "display_name": "Python 3 (ipykernel)",
   "language": "python",
   "name": "python3"
  },
  "language_info": {
   "codemirror_mode": {
    "name": "ipython",
    "version": 3
   },
   "file_extension": ".py",
   "mimetype": "text/x-python",
   "name": "python",
   "nbconvert_exporter": "python",
   "pygments_lexer": "ipython3",
   "version": "3.12.0"
  }
 },
 "nbformat": 4,
 "nbformat_minor": 5
}
