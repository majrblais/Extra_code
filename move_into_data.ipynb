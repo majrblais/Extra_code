{
 "cells": [
  {
   "cell_type": "code",
   "execution_count": 1,
   "id": "da877405-f35d-49cb-958d-ba77be8853da",
   "metadata": {},
   "outputs": [
    {
     "name": "stdout",
     "output_type": "stream",
     "text": [
      "Files moved successfully.\n"
     ]
    }
   ],
   "source": [
    "import os\n",
    "import shutil\n",
    "\n",
    "# List of your main folders\n",
    "folders = ['128_aug', '128_noaug','256_aug', '256_noaug','512_aug', '512_noaug','1024_aug', '1024_noaug',]\n",
    "\n",
    "# Base path for the directories\n",
    "base_path = './'  # Replace with your actual base path\n",
    "\n",
    "# Function to move files to the 'data' folder\n",
    "def move_files_to_data(folder):\n",
    "    for subfolder in ['train', 'val']:\n",
    "        for subsubfolder in ['i', 'm']:\n",
    "            subsubfolder_path = os.path.join(base_path, folder, subfolder, subsubfolder)\n",
    "            data_folder_path = os.path.join(subsubfolder_path, 'data')\n",
    "\n",
    "            # Create 'data' folder if it doesn't exist\n",
    "            if not os.path.exists(data_folder_path):\n",
    "                os.makedirs(data_folder_path)\n",
    "\n",
    "            # Move files into 'data' folder\n",
    "            for file_name in os.listdir(subsubfolder_path):\n",
    "                file_path = os.path.join(subsubfolder_path, file_name)\n",
    "\n",
    "                # Skip if it's already the 'data' folder\n",
    "                if file_name == 'data':\n",
    "                    continue\n",
    "\n",
    "                # Move the file to the 'data' folder\n",
    "                if os.path.isfile(file_path):\n",
    "                    shutil.move(file_path, os.path.join(data_folder_path, file_name))\n",
    "\n",
    "# Loop over each folder and process the files\n",
    "for folder in folders:\n",
    "    move_files_to_data(folder)\n",
    "\n",
    "print(\"Files moved successfully.\")\n"
   ]
  },
  {
   "cell_type": "code",
   "execution_count": null,
   "id": "5406c9ea-1c22-46a2-82e5-467156caf1dc",
   "metadata": {},
   "outputs": [],
   "source": []
  }
 ],
 "metadata": {
  "kernelspec": {
   "display_name": "Python 3 (ipykernel)",
   "language": "python",
   "name": "python3"
  },
  "language_info": {
   "codemirror_mode": {
    "name": "ipython",
    "version": 3
   },
   "file_extension": ".py",
   "mimetype": "text/x-python",
   "name": "python",
   "nbconvert_exporter": "python",
   "pygments_lexer": "ipython3",
   "version": "3.12.0"
  }
 },
 "nbformat": 4,
 "nbformat_minor": 5
}
