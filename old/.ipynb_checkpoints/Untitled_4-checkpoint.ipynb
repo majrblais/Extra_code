{
 "cells": [
  {
   "cell_type": "code",
   "execution_count": 10,
   "id": "6ccaa097-f80f-4a0b-84cb-8053b51c579e",
   "metadata": {},
   "outputs": [
    {
     "name": "stdout",
     "output_type": "stream",
     "text": [
      "Value in cell H8: =IF((G8<1),0,IF((G8=\"\"),\"\",WS!G105))\n"
     ]
    }
   ],
   "source": [
    "import openpyxl\n",
    "\n",
    "# Read the Excel file\n",
    "excel_file = \"wespac_41_.xlsx\"\n",
    "sheet_name = \"Scores\"\n",
    "cell = \"H8\"\n",
    "\n",
    "try:\n",
    "    # Load the workbook using openpyxl\n",
    "    wb = openpyxl.load_workbook(excel_file)\n",
    "\n",
    "    # Select the worksheet\n",
    "    sheet = wb[sheet_name]\n",
    "\n",
    "    # Calculate the workbook\n",
    "    for row in sheet.iter_rows():\n",
    "        for cell_obj in row:\n",
    "            if cell_obj.data_type == 'f':\n",
    "                cell_obj.value = cell_obj.value\n",
    "\n",
    "    # Read the value from the specified cell\n",
    "    value = sheet[cell].value\n",
    "    print(\"Value in cell H8:\", value)\n",
    "except Exception as e:\n",
    "    print(\"An error occurred:\", e)\n"
   ]
  },
  {
   "cell_type": "code",
   "execution_count": null,
   "id": "2ddb0cc0-2875-4690-aa8b-a8b255023f9e",
   "metadata": {},
   "outputs": [],
   "source": []
  }
 ],
 "metadata": {
  "kernelspec": {
   "display_name": "Python 3 (ipykernel)",
   "language": "python",
   "name": "python3"
  },
  "language_info": {
   "codemirror_mode": {
    "name": "ipython",
    "version": 3
   },
   "file_extension": ".py",
   "mimetype": "text/x-python",
   "name": "python",
   "nbconvert_exporter": "python",
   "pygments_lexer": "ipython3",
   "version": "3.12.0"
  }
 },
 "nbformat": 4,
 "nbformat_minor": 5
}
