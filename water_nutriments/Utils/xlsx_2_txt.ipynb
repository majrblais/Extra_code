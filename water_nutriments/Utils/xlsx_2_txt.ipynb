{
 "cells": [
  {
   "cell_type": "code",
   "execution_count": 1,
   "id": "270b8c4c-b3c0-480b-967f-b73aeeeade24",
   "metadata": {
    "tags": []
   },
   "outputs": [],
   "source": [
    "import pandas as pd\n",
    "\n",
    "# Read Excel file\n",
    "excel_file = 'combined.xlsx'  # Replace 'example.xlsx' with the path to your Excel file\n",
    "df = pd.read_excel(excel_file)\n",
    "\n"
   ]
  },
  {
   "cell_type": "code",
   "execution_count": 2,
   "id": "09acfcf8-9b0c-483b-9fa6-2e7bfddaa4cf",
   "metadata": {},
   "outputs": [],
   "source": [
    "# Save as text file\n",
    "txt_file = 'combined.txt'  # Replace 'output.txt' with the desired name for your text file\n",
    "df.to_csv(txt_file, sep=',', index=False)"
   ]
  }
 ],
 "metadata": {
  "kernelspec": {
   "display_name": "Python 3 (ipykernel)",
   "language": "python",
   "name": "python3"
  },
  "language_info": {
   "codemirror_mode": {
    "name": "ipython",
    "version": 3
   },
   "file_extension": ".py",
   "mimetype": "text/x-python",
   "name": "python",
   "nbconvert_exporter": "python",
   "pygments_lexer": "ipython3",
   "version": "3.12.0"
  }
 },
 "nbformat": 4,
 "nbformat_minor": 5
}
