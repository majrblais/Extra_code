{
 "cells": [
  {
   "cell_type": "code",
   "execution_count": null,
   "id": "5377981a-e29b-438f-9327-af296eadebf4",
   "metadata": {},
   "outputs": [],
   "source": [
    "import pandas as pd\n",
    "\n",
    "# Load the data\n",
    "file_path = \"data_ra_norm_filled_sr_benefit.xlsx\"\n",
    "data = pd.read_excel(file_path)\n",
    "\n",
    "# Filter rows where the value of column \"NR\" is neither 0 nor 10\n",
    "data_filtered = data[(data['SR_Benefit'] != 0) & (data['SR_Benefit'] != 10)]\n",
    "\n",
    "filtered_file_path = \"data_sr_benefit_filtered.xlsx\"\n",
    "data_filtered.to_excel(filtered_file_path, index=False)\n",
    "\n",
    "print(\"Filtered data saved to:\", filtered_file_path)"
   ]
  }
 ],
 "metadata": {
  "kernelspec": {
   "display_name": "Python 3 (ipykernel)",
   "language": "python",
   "name": "python3"
  },
  "language_info": {
   "codemirror_mode": {
    "name": "ipython",
    "version": 3
   },
   "file_extension": ".py",
   "mimetype": "text/x-python",
   "name": "python",
   "nbconvert_exporter": "python",
   "pygments_lexer": "ipython3",
   "version": "3.12.0"
  }
 },
 "nbformat": 4,
 "nbformat_minor": 5
}
