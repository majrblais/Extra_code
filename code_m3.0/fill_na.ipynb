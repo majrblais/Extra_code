{
 "cells": [
  {
   "cell_type": "code",
   "execution_count": null,
   "id": "414a353f-a382-4c6f-b7a0-dc0312ef3a5e",
   "metadata": {},
   "outputs": [],
   "source": []
  },
  {
   "cell_type": "code",
   "execution_count": 30,
   "id": "69e9776c-76b1-4118-9a06-04db31ca7a33",
   "metadata": {},
   "outputs": [],
   "source": [
    "import pandas as pd\n",
    "from sklearn.impute import SimpleImputer\n",
    "from sklearn.compose import ColumnTransformer\n",
    "\n",
    "# Load CSV data into a DataFrame\n",
    "df = pd.read_excel(\"data_ra_normalized.xlsx\")\n",
    "\n",
    "# Define the imputer to handle missing values\n",
    "imputer = SimpleImputer(strategy='median')  # You can choose different strategies like 'median', 'most_frequent', etc.\n",
    "\n",
    "# Fit the imputer to the data\n",
    "imputer.fit(df)\n",
    "\n",
    "# Transform and fill missing values in the DataFrame\n",
    "df_filled = pd.DataFrame(imputer.transform(df), columns=df.columns)\n",
    "\n",
    "# Save the filled DataFrame back to a CSV file\n",
    "\n",
    "df_filled.to_excel('data_ra_norm_filled.xlsx', index=False)\n"
   ]
  },
  {
   "cell_type": "code",
   "execution_count": null,
   "id": "51d783da-224d-41d1-b189-e98b048eda0b",
   "metadata": {},
   "outputs": [],
   "source": []
  }
 ],
 "metadata": {
  "kernelspec": {
   "display_name": "Python 3 (ipykernel)",
   "language": "python",
   "name": "python3"
  },
  "language_info": {
   "codemirror_mode": {
    "name": "ipython",
    "version": 3
   },
   "file_extension": ".py",
   "mimetype": "text/x-python",
   "name": "python",
   "nbconvert_exporter": "python",
   "pygments_lexer": "ipython3",
   "version": "3.12.0"
  }
 },
 "nbformat": 4,
 "nbformat_minor": 5
}
