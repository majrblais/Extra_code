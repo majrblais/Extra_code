{
 "cells": [
  {
   "cell_type": "code",
   "execution_count": 86,
   "id": "c554088b-7ee1-489e-84a3-978ff7a2ed39",
   "metadata": {
    "scrolled": true
   },
   "outputs": [
    {
     "name": "stdout",
     "output_type": "stream",
     "text": [
      "Number of columns in the Excel file: 213\n"
     ]
    }
   ],
   "source": [
    "#used for binary to int without multi\n",
    "import pandas as pd\n",
    "\n",
    "def column_to_int(column):\n",
    "    for i, bit in enumerate(column):\n",
    "        if bit == 1:\n",
    "            return i\n",
    "    return 0\n",
    "\n",
    "def main():\n",
    "    # Load the Excel file\n",
    "    df = pd.read_excel('Book2.xlsx', header=None)\n",
    "\n",
    "    # Display the number of columns\n",
    "    num_columns = len(df.columns)\n",
    "    print(f\"Number of columns in the Excel file: {num_columns}\")\n",
    "\n",
    "    # Select start and end columns\n",
    "    start_column_pos = 4\n",
    "    end_column_pos = 213\n",
    "\n",
    "    # Select the range of rows for hot one encoding\n",
    "    row_start_pos = 324\n",
    "    row_end_pos = 330\n",
    "\n",
    "    # Extract the relevant columns and rows for hot one encoding\n",
    "    selected_columns = df.iloc[:, start_column_pos-1:end_column_pos]\n",
    "    selected_rows = df.iloc[row_start_pos-1:row_end_pos, start_column_pos-1:end_column_pos]\n",
    "\n",
    "    res = []\n",
    "    # Iterate over selected columns\n",
    "    for col_index, column in selected_columns.items():\n",
    "        # Filter selected rows in the current column\n",
    "        selected_rows_in_column = selected_rows[col_index]\n",
    "        \n",
    "        # Find the position of \"1\" in the current column\n",
    "        position_of_one = column_to_int(selected_rows_in_column)\n",
    "        \n",
    "        # Append the result to the list\n",
    "        res.append(position_of_one)\n",
    "\n",
    "    # Create a DataFrame from the results list\n",
    "    res_df = pd.DataFrame({'Position_of_One': res})\n",
    "\n",
    "    # Save the DataFrame to a new Excel file\n",
    "    res_df.to_excel('result.xlsx', index=False)\n",
    "\n",
    "if __name__ == \"__main__\":\n",
    "    main()\n"
   ]
  },
  {
   "cell_type": "code",
   "execution_count": null,
   "id": "0c42702f-8db9-4d3e-bbc9-c683547c8104",
   "metadata": {},
   "outputs": [],
   "source": []
  },
  {
   "cell_type": "code",
   "execution_count": null,
   "id": "17ada01a-6469-4b41-95e0-d9ecba5e34bb",
   "metadata": {},
   "outputs": [],
   "source": []
  },
  {
   "cell_type": "code",
   "execution_count": 87,
   "id": "ba84f6e8-9536-44da-bdb4-6a36bca28818",
   "metadata": {},
   "outputs": [
    {
     "name": "stdout",
     "output_type": "stream",
     "text": [
      "Number of columns in the Excel file: 213\n"
     ]
    }
   ],
   "source": [
    "#used for binary envoding\n",
    "import pandas as pd\n",
    "\n",
    "def column_to_int(column):\n",
    "    # Reverse the column and convert it to a string\n",
    "    binary_string = ''.join(map(str, reversed(column.tolist())))\n",
    "    # Convert the binary string to decimal\n",
    "    decimal_value = int(binary_string, 2)\n",
    "    return decimal_value\n",
    "\n",
    "def main():\n",
    "    # Load the Excel file\n",
    "    df = pd.read_excel('Book2.xlsx', header=None)\n",
    "\n",
    "    # Display the number of columns\n",
    "    num_columns = len(df.columns)\n",
    "    print(f\"Number of columns in the Excel file: {num_columns}\")\n",
    "\n",
    "    # Select start and end columns\n",
    "    start_column_pos = 4\n",
    "    end_column_pos = 213\n",
    "\n",
    "    # Select the range of rows for hot one encoding\n",
    "    row_start_pos = 334\n",
    "    row_end_pos = 336\n",
    "\n",
    "    # Extract the relevant columns and rows for hot one encoding\n",
    "    selected_columns = df.iloc[:, start_column_pos-1:end_column_pos]\n",
    "    selected_rows = df.iloc[row_start_pos-1:row_end_pos, start_column_pos-1:end_column_pos]\n",
    "\n",
    "    res = []\n",
    "    # Iterate over selected columns\n",
    "    for col_index, column in selected_columns.items():\n",
    "        # Filter selected rows in the current column\n",
    "        selected_rows_in_column = selected_rows[col_index]\n",
    "        \n",
    "        # Calculate the binary hot one encoded vector\n",
    "        binary_value = column_to_int(selected_rows_in_column)\n",
    "        \n",
    "        # Append the result to the list\n",
    "        res.append(binary_value)\n",
    "\n",
    "    # Create a DataFrame from the results list\n",
    "    res_df = pd.DataFrame({'Binary_Encoded_Value': res})\n",
    "\n",
    "    # Save the DataFrame to a new Excel file\n",
    "    res_df.to_excel('result.xlsx', index=False)\n",
    "\n",
    "if __name__ == \"__main__\":\n",
    "    main()\n"
   ]
  },
  {
   "cell_type": "code",
   "execution_count": null,
   "id": "10c43ba9-410b-43f3-98f6-1a215cc4cacc",
   "metadata": {},
   "outputs": [],
   "source": []
  },
  {
   "cell_type": "code",
   "execution_count": null,
   "id": "e7445dd0-6470-4ba8-b812-466216c00940",
   "metadata": {},
   "outputs": [],
   "source": []
  },
  {
   "cell_type": "code",
   "execution_count": 38,
   "id": "003697dc-75c8-4613-b7ba-0127ba575bd6",
   "metadata": {},
   "outputs": [
    {
     "name": "stdout",
     "output_type": "stream",
     "text": [
      "Number of columns in the Excel file: 213\n"
     ]
    }
   ],
   "source": [
    "import pandas as pd\n",
    "\n",
    "def column_to_int(column):\n",
    "    for i, bit in enumerate(column):\n",
    "        if bit == 1:\n",
    "            return i\n",
    "    return 0\n",
    "\n",
    "def main():\n",
    "    # Load the Excel file\n",
    "    df = pd.read_excel('Book2.xlsx', header=None)\n",
    "\n",
    "    # Display the number of columns\n",
    "    num_columns = len(df.columns)\n",
    "    print(f\"Number of columns in the Excel file: {num_columns}\")\n",
    "\n",
    "    # Select start and end columns\n",
    "    start_column_pos = 4\n",
    "    end_column_pos = 213\n",
    "\n",
    "    # Define the ranges of rows for hot one encoding\n",
    "    row_ranges = [(44, 45), (47, 48)]\n",
    "\n",
    "    # Extract the relevant columns and rows for hot one encoding\n",
    "    selected_columns = df.iloc[:, start_column_pos-1:end_column_pos]\n",
    "\n",
    "    # Initialize an empty DataFrame to store selected rows\n",
    "    selected_rows = pd.DataFrame()\n",
    "\n",
    "    # Iterate over each row range\n",
    "    for row_range in row_ranges:\n",
    "        row_start_pos, row_end_pos = row_range\n",
    "        selected_rows_range = df.iloc[row_start_pos-1:row_end_pos, start_column_pos-1:end_column_pos]\n",
    "        selected_rows = pd.concat([selected_rows, selected_rows_range])\n",
    "\n",
    "    res = []\n",
    "    # Iterate over selected columns\n",
    "    for col_index, column in selected_columns.items():\n",
    "        # Filter selected rows in the current column\n",
    "        selected_rows_in_column = selected_rows[col_index]\n",
    "        \n",
    "        # Find the position of \"1\" in the current column\n",
    "        position_of_one = column_to_int(selected_rows_in_column)\n",
    "        \n",
    "        # Append the result to the list\n",
    "        res.append(position_of_one)\n",
    "\n",
    "    # Create a DataFrame from the results list\n",
    "    res_df = pd.DataFrame({'Position_of_One': res})\n",
    "\n",
    "    # Save the DataFrame to a new Excel file\n",
    "    res_df.to_excel('result.xlsx', index=False)\n",
    "\n",
    "if __name__ == \"__main__\":\n",
    "    main()\n"
   ]
  },
  {
   "cell_type": "code",
   "execution_count": null,
   "id": "80e67d7f-0d60-4e84-aa01-659789a3ab0d",
   "metadata": {},
   "outputs": [],
   "source": []
  }
 ],
 "metadata": {
  "kernelspec": {
   "display_name": "Python 3 (ipykernel)",
   "language": "python",
   "name": "python3"
  },
  "language_info": {
   "codemirror_mode": {
    "name": "ipython",
    "version": 3
   },
   "file_extension": ".py",
   "mimetype": "text/x-python",
   "name": "python",
   "nbconvert_exporter": "python",
   "pygments_lexer": "ipython3",
   "version": "3.12.0"
  }
 },
 "nbformat": 4,
 "nbformat_minor": 5
}
