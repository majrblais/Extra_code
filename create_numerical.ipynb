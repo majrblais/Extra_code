{
 "cells": [
  {
   "cell_type": "code",
   "execution_count": 8,
   "id": "b08618db-9ed3-4887-a318-28b763bbccc7",
   "metadata": {},
   "outputs": [],
   "source": [
    "import pandas as pd\n",
    "\n",
    "def excel_to_txt(excel_file, txt_file):\n",
    "    # Read Excel file\n",
    "    df = pd.read_excel(excel_file)\n",
    "    \n",
    "    # Replace string values with numeric values\n",
    "    df.replace({'Lower': 0, 'Moderate': 1, 'Higher': 2}, inplace=True)\n",
    "    \n",
    "    # Factorize string values into categorical integer values for specified columns\n",
    "    categorical_columns = [\"PC\", \"FC\", \"WRI\", \"SVT\", \"VCHWC\", \"HWCC\", \"MC\", \"PP\", \"ST\", \"SWP\", \"DP\"]\n",
    "    for column in categorical_columns:\n",
    "        df[column], _ = pd.factorize(df[column])\n",
    "    \n",
    "    df = df.apply(pd.to_numeric, errors='coerce')\n",
    "    \n",
    "    # Replace missing values with the average of each column\n",
    "    df.fillna(df.mean(), inplace=True)\n",
    "    \n",
    "    # Save as text file with comma delimiter\n",
    "    df.to_csv(txt_file, index=False, sep=',')\n",
    "    return df\n",
    "# Example usage:\n",
    "excel_file = 'data_all.xlsx'  # Replace 'example.xlsx' with your Excel file path\n",
    "txt_file = 'output.txt'       # Replace 'output.txt' with your desired text file path\n",
    "df=excel_to_txt(excel_file, txt_file)\n"
   ]
  },
  {
   "cell_type": "code",
   "execution_count": 10,
   "id": "5d4de44d-407d-43d8-8007-a09e4bfa476b",
   "metadata": {},
   "outputs": [],
   "source": [
    "df.to_excel(\"data_all_numerical.xlsx\")"
   ]
  },
  {
   "cell_type": "code",
   "execution_count": null,
   "id": "5755d708-8e26-4860-b10d-52198c1068ef",
   "metadata": {},
   "outputs": [],
   "source": []
  }
 ],
 "metadata": {
  "kernelspec": {
   "display_name": "Python 3 (ipykernel)",
   "language": "python",
   "name": "python3"
  },
  "language_info": {
   "codemirror_mode": {
    "name": "ipython",
    "version": 3
   },
   "file_extension": ".py",
   "mimetype": "text/x-python",
   "name": "python",
   "nbconvert_exporter": "python",
   "pygments_lexer": "ipython3",
   "version": "3.12.0"
  }
 },
 "nbformat": 4,
 "nbformat_minor": 5
}
